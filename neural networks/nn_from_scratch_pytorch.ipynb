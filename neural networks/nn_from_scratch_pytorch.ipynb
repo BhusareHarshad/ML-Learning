{
 "cells": [
  {
   "cell_type": "code",
   "execution_count": 88,
   "metadata": {},
   "outputs": [
    {
     "data": {
      "image/png": "[encoded data removed]",
      "text/plain": [
       "<Figure size 640x480 with 2 Axes>"
      ]
     },
     "metadata": {},
     "output_type": "display_data"
    }
   ],
   "source": [
    "##Data processing and input\n",
    "\n",
    "from PIL import Image\n",
    "import io\n",
    "import numpy as np\n",
    "import pandas as pd\n",
    "import matplotlib.pyplot as plt\n",
    "\n",
    "splits = {'train': 'mnist/train-00000-of-00001.parquet', 'test': 'mnist/test-00000-of-00001.parquet'}\n",
    "\n",
    "##parquet files from hugging face\n",
    "\n",
    "df_train = pd.read_parquet(\"hf://datasets/ylecun/mnist/\" + splits[\"train\"])\n",
    "df_test = pd.read_parquet(\"hf://datasets/ylecun/mnist/\" + splits[\"test\"])\n",
    "\n",
    "\n",
    "n = len(df_train) #10000 samples\n",
    "\n",
    "##initialize matrix\n",
    "matrix = np.zeros((784, n))\n",
    "for i in range(n):\n",
    "    \n",
    "    #Read bytes of the raw image\n",
    "    image_bytes = df_train['image'][i].get('bytes')\n",
    "    image_object = Image.open(io.BytesIO(image_bytes))\n",
    "    pixel_values = np.array(image_object.getdata())\n",
    "    matrix[:, i] = pixel_values / 255.\n",
    "\n",
    "###For visualization of pixels and image\n",
    "image_pixels = matrix[:, 520]\n",
    "\n",
    "image_reshaped = image_pixels.reshape(28, 28)\n",
    "\n",
    "plt.imshow(image_reshaped, cmap='gray', interpolation='nearest')\n",
    "plt.title(f'Grayscale Image')\n",
    "plt.colorbar()\n",
    "plt.show()"
   ]
  },
  {
   "cell_type": "code",
   "execution_count": 89,
   "metadata": {},
   "outputs": [
    {
     "name": "stdout",
     "output_type": "stream",
     "text": [
      "(784,) (60000,)\n"
     ]
    }
   ],
   "source": [
    "x_train = matrix\n",
    "y_train = np.array(df_train['label'].head(n))\n",
    "\n",
    "print(x_train[:, 1].shape, y_train.shape)"
   ]
  },
  {
   "cell_type": "code",
   "execution_count": 90,
   "metadata": {},
   "outputs": [
    {
     "name": "stdout",
     "output_type": "stream",
     "text": [
      "Iteration 0, Loss: 2.3021018505096436\n",
      "Iteration 100, Loss: 2.2294692993164062\n",
      "Iteration 200, Loss: 2.0262696743011475\n",
      "Iteration 300, Loss: 1.8540387153625488\n",
      "Iteration 400, Loss: 1.759088158607483\n",
      "Iteration 500, Loss: 1.7147479057312012\n",
      "Iteration 600, Loss: 1.6911100149154663\n",
      "Iteration 700, Loss: 1.6765652894973755\n",
      "Iteration 800, Loss: 1.6654446125030518\n",
      "Iteration 900, Loss: 1.639023780822754\n",
      "Iteration 1000, Loss: 1.621567964553833\n",
      "Iteration 1100, Loss: 1.6101007461547852\n",
      "Iteration 1200, Loss: 1.601802110671997\n",
      "Iteration 1300, Loss: 1.5954276323318481\n",
      "Iteration 1400, Loss: 1.590328335762024\n",
      "Iteration 1500, Loss: 1.5861283540725708\n",
      "Iteration 1600, Loss: 1.5825875997543335\n",
      "Iteration 1700, Loss: 1.5795458555221558\n",
      "Iteration 1800, Loss: 1.5768918991088867\n",
      "Iteration 1900, Loss: 1.5745490789413452\n",
      "Iteration 2000, Loss: 1.57245671749115\n",
      "Iteration 2100, Loss: 1.5705746412277222\n",
      "Iteration 2200, Loss: 1.5688683986663818\n",
      "Iteration 2300, Loss: 1.5673120021820068\n",
      "Iteration 2400, Loss: 1.5658849477767944\n",
      "Iteration 2500, Loss: 1.5645685195922852\n",
      "Iteration 2600, Loss: 1.5633482933044434\n",
      "Iteration 2700, Loss: 1.5622117519378662\n",
      "Iteration 2800, Loss: 1.5611488819122314\n",
      "Iteration 2900, Loss: 1.5601515769958496\n",
      "Iteration 3000, Loss: 1.5592119693756104\n",
      "Iteration 3100, Loss: 1.5583248138427734\n",
      "Iteration 3200, Loss: 1.5574846267700195\n",
      "Iteration 3300, Loss: 1.5566871166229248\n",
      "Iteration 3400, Loss: 1.5559284687042236\n",
      "Iteration 3500, Loss: 1.5552070140838623\n",
      "Iteration 3600, Loss: 1.554518222808838\n",
      "Iteration 3700, Loss: 1.5538593530654907\n",
      "Iteration 3800, Loss: 1.5532286167144775\n",
      "Iteration 3900, Loss: 1.5526247024536133\n",
      "Iteration 4000, Loss: 1.5520455837249756\n",
      "Iteration 4100, Loss: 1.5514886379241943\n",
      "Iteration 4200, Loss: 1.5509530305862427\n",
      "Iteration 4300, Loss: 1.5504364967346191\n",
      "Iteration 4400, Loss: 1.5499377250671387\n",
      "Iteration 4500, Loss: 1.5494564771652222\n",
      "Iteration 4600, Loss: 1.548991322517395\n",
      "Iteration 4700, Loss: 1.5485414266586304\n",
      "Iteration 4800, Loss: 1.5481053590774536\n",
      "Iteration 4900, Loss: 1.5476826429367065\n"
     ]
    }
   ],
   "source": [
    "import torch\n",
    "import torch.nn as nn\n",
    "import torch.nn.functional as F\n",
    "\n",
    "##Torch tensors conversion\n",
    "x_train = torch.tensor(x_train.T)\n",
    "y_train = torch.tensor(y_train)\n",
    "\n",
    "class simpleNN(nn.Module):\n",
    "    def __init__(self):\n",
    "        super(simpleNN, self).__init__()\n",
    "        self.fc1 = nn.Linear(784, 10)\n",
    "        self.fc2 = nn.Linear(10, 10)\n",
    "        \n",
    "    def forward(self, X):\n",
    "        Z1 = self.fc1(X)\n",
    "        A1 = F.relu(Z1)\n",
    "        Z2 = self.fc2(A1)\n",
    "        A2 = F.softmax(Z2, dim=1)\n",
    "        return A2\n",
    "    \n",
    "def one_hot_encode(Y, num_classes):\n",
    "    return F.one_hot(Y, num_classes=num_classes).float()\n",
    "\n",
    "def compute_loss(A2, Y):\n",
    "    loss = F.cross_entropy(A2, Y)\n",
    "    return loss\n",
    "\n",
    "def train(model, X, Y, optimizer, num_iterations=100):\n",
    "    for i in range(num_iterations):\n",
    "        A2 = model(X)\n",
    "        loss = compute_loss(A2, Y)\n",
    "        optimizer.zero_grad()\n",
    "        loss.backward()\n",
    "        optimizer.step()\n",
    "        \n",
    "        if i % 100 == 0:\n",
    "            print(f'Iteration {i}, Loss: {loss.item()}')\n",
    "            \n",
    "model = simpleNN()\n",
    "optimizer = torch.optim.SGD(model.parameters(), lr=0.12)\n",
    "\n",
    "\n",
    "train(model, x_train.float(), y_train, optimizer, num_iterations=5000)\n",
    "    "
   ]
  },
  {
   "cell_type": "code",
   "execution_count": 91,
   "metadata": {},
   "outputs": [],
   "source": [
    "indices = np.random.choice(x_train.shape[0], 10, replace=False) ##Pick some random indices to test\n",
    "\n",
    "x_test = x_train[indices, :]"
   ]
  },
  {
   "cell_type": "code",
   "execution_count": 92,
   "metadata": {},
   "outputs": [
    {
     "name": "stdout",
     "output_type": "stream",
     "text": [
      "tensor([8, 6, 2, 2, 6, 0, 5, 3, 4, 1])\n"
     ]
    }
   ],
   "source": [
    "y_test = y_train[indices]\n",
    "print(y_test)"
   ]
  },
  {
   "cell_type": "code",
   "execution_count": 93,
   "metadata": {},
   "outputs": [
    {
     "name": "stdout",
     "output_type": "stream",
     "text": [
      "Predicted classes:  tensor([5, 6, 2, 2, 6, 0, 5, 3, 4, 1])\n",
      "Actual classes:  tensor([8, 6, 2, 2, 6, 0, 5, 3, 4, 1])\n",
      "Accuracy: 90.00 %\n"
     ]
    }
   ],
   "source": [
    "def inference(model, X):\n",
    "    model.eval()\n",
    "    \n",
    "    with torch.no_grad():\n",
    "        A2 = model(X.float())\n",
    "        predictions = torch.argmax(A2, dim=1)\n",
    "    \n",
    "    return predictions\n",
    "\n",
    "predictions = inference(model, x_test)\n",
    "print(\"Predicted classes: \", predictions)\n",
    "print(\"Actual classes: \", y_test)\n",
    "\n",
    "correct_predictions = (predictions == y_test).sum().item()\n",
    "total_predictions = len(predictions)\n",
    "accuracy = correct_predictions / total_predictions\n",
    "\n",
    "print(f\"Accuracy: {accuracy*100:0.2f} %\")\n"
   ]
  }
 ],
 "metadata": {
  "kernelspec": {
   "display_name": "Python 3.11.3 ('base')",
   "language": "python",
   "name": "python3"
  },
  "language_info": {
   "codemirror_mode": {
    "name": "ipython",
    "version": 3
   },
   "file_extension": ".py",
   "mimetype": "text/x-python",
   "name": "python",
   "nbconvert_exporter": "python",
   "pygments_lexer": "ipython3",
   "version": "3.11.3"
  },
  "orig_nbformat": 4,
  "vscode": {
   "interpreter": {
    "hash": "3c06e3e46abf38078fe4dac36a0085ec2b134ebbd73dd076183d243eeca6918f"
   }
  }
 },
 "nbformat": 4,
 "nbformat_minor": 2
}
