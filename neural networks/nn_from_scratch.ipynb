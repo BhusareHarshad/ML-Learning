{
 "cells": [
  {
   "cell_type": "markdown",
   "metadata": {},
   "source": [
    "##Data extracting and preprocessing"
   ]
  },
  {
   "cell_type": "code",
   "execution_count": 1,
   "metadata": {},
   "outputs": [],
   "source": [
    "from PIL import Image\n",
    "import io\n",
    "import numpy as np\n",
    "import pandas as pd"
   ]
  },
  {
   "cell_type": "code",
   "execution_count": 2,
   "metadata": {},
   "outputs": [],
   "source": [
    "splits = {'train': 'mnist/train-00000-of-00001.parquet', 'test': 'mnist/test-00000-of-00001.parquet'}"
   ]
  },
  {
   "cell_type": "code",
   "execution_count": 3,
   "metadata": {},
   "outputs": [],
   "source": [
    "##parquet files from hugging face\n",
    "\n",
    "df_train = pd.read_parquet(\"hf://datasets/ylecun/mnist/\" + splits[\"train\"])\n",
    "df_test = pd.read_parquet(\"hf://datasets/ylecun/mnist/\" + splits[\"test\"])"
   ]
  },
  {
   "cell_type": "code",
   "execution_count": 4,
   "metadata": {},
   "outputs": [],
   "source": [
    "n = len(df_train) #10000 samples\n",
    "\n",
    "##initialize matrix\n",
    "matrix = np.zeros((784, n))\n",
    "for i in range(n):\n",
    "    \n",
    "    #Read bytes of the raw image\n",
    "    image_bytes = df_train['image'][i].get('bytes')\n",
    "    image_object = Image.open(io.BytesIO(image_bytes))\n",
    "    pixel_values = np.array(image_object.getdata())\n",
    "    matrix[:, i] = pixel_values / 255."
   ]
  },
  {
   "cell_type": "code",
   "execution_count": 5,
   "metadata": {},
   "outputs": [
    {
     "data": {
      "image/png": "[encoded data removed]",
      "text/plain": [
       "<Figure size 640x480 with 2 Axes>"
      ]
     },
     "metadata": {},
     "output_type": "display_data"
    }
   ],
   "source": [
    "import matplotlib.pyplot as plt\n",
    "\n",
    "###For visualization of pixels and image\n",
    "image_pixels = matrix[:, 520]\n",
    "\n",
    "image_reshaped = image_pixels.reshape(28, 28)\n",
    "\n",
    "plt.imshow(image_reshaped, cmap='gray', interpolation='nearest')\n",
    "plt.title(f'Grayscale Image')\n",
    "plt.colorbar()\n",
    "plt.show()"
   ]
  },
  {
   "cell_type": "code",
   "execution_count": 6,
   "metadata": {},
   "outputs": [],
   "source": [
    "x_train = matrix\n",
    "y_train = np.array(df_train['label'].head(n))"
   ]
  },
  {
   "cell_type": "code",
   "execution_count": 7,
   "metadata": {},
   "outputs": [
    {
     "name": "stdout",
     "output_type": "stream",
     "text": [
      "(784,) (60000,)\n"
     ]
    }
   ],
   "source": [
    "print(x_train[:, 1].shape, y_train.shape)"
   ]
  },
  {
   "cell_type": "code",
   "execution_count": 8,
   "metadata": {},
   "outputs": [],
   "source": [
    "##input layer all pixel values 784 x 1:\n",
    "## 1st hidden layer 10 x 1\n",
    "## 2nd ouput layer 10 X 1 (values 0-9 (since 10 labels))\n",
    "\n",
    "##Single neuron: N1 = Wi*X + bi   (Wi is the weights, X is the input, bi is the bias)\n",
    "\n",
    "## Wi = (10 * 784) X = (784, 1) => (10 x 1) array and bias => (10 x 1), so N1 => (10 x 1)\n",
    "\n",
    "## W2 = (10 * 10) X = (10 * 1) => (10 x 1) array and bias => (10 x 1), so N2 => (10 x 1)"
   ]
  },
  {
   "cell_type": "code",
   "execution_count": 9,
   "metadata": {},
   "outputs": [],
   "source": [
    "def init_params():\n",
    "    W1 = np.random.rand(10, 784) - 0.51\n",
    "    b1 = np.random.rand(10, 1) - 0.5\n",
    "    W2 = np.random.rand(10, 10) - 0.52\n",
    "    b2 = np.random.rand(10, 1) - 0.5\n",
    "    \n",
    "    return W1, b1, W2, b2\n",
    "\n",
    "def ReLU(Z):\n",
    "    return np.maximum(Z, 0)\n",
    "\n",
    "def softmax(Z):\n",
    "    return np.exp(Z) / sum(np.exp(Z))\n",
    "\n",
    "def forward_prop(W1, b1, W2, b2, X):\n",
    "    Z1 = W1.dot(X) + b1\n",
    "    A1 = ReLU(Z1)\n",
    "    Z2 = W2.dot(A1) + b2\n",
    "    A2 = softmax(Z2)\n",
    "    \n",
    "    return Z1, A1, Z2, A2\n",
    "\n",
    "def deriv_ReLU(Z):\n",
    "    return Z > 0\n",
    "\n",
    "def one_hot(Y):\n",
    "    one_hot_Y = np.zeros((Y.size, Y.max() + 1))\n",
    "    one_hot_Y[np.arange(Y.size), Y] = 1\n",
    "    one_hot_Y = one_hot_Y.T\n",
    "    return one_hot_Y\n",
    "\n",
    "def back_prop(Z1, A1, Z2, A2, W1, W2, X, Y):\n",
    "    ## Cost function/Error here is a simple L1 error which we are trying to optimize\n",
    "    m = Y.size\n",
    "    one_hot_Y  = one_hot(Y)\n",
    "    dZ2 = A2 - one_hot_Y\n",
    "    dW2 = 1 / m * dZ2.dot(A1.T)\n",
    "    db2 = 1/ m * np.sum(dZ2)\n",
    "    dZ1 = W2.T.dot(dZ2) * deriv_ReLU(Z1)\n",
    "    \n",
    "    dW1 = 1 / m * dZ1.dot(X.T)\n",
    "    db1 = 1/ m * np.sum(dZ1)\n",
    "    \n",
    "    return dW1, db1, dW2, db2\n",
    "\n",
    "def update_params(W1, b1, W2, b2, dW1, db1, dW2, db2, alpha):\n",
    "    W1 = W1 - alpha * dW1\n",
    "    b1 = b1 - alpha * db1\n",
    "    \n",
    "    W2 = W2 - alpha * dW2\n",
    "    b2 = b2 - alpha * db2\n",
    "    \n",
    "    return W1, b1, W2, b2\n"
   ]
  },
  {
   "cell_type": "code",
   "execution_count": 10,
   "metadata": {},
   "outputs": [],
   "source": [
    "def get_predictions(A2):\n",
    "    return np.argmax(A2, 0)\n",
    "\n",
    "def get_accuracy(predictions, Y):\n",
    "    #print(predictions, Y)\n",
    "    return np.sum(predictions == Y) / Y.size\n",
    "\n",
    "def gradient_descent(X, Y, iterations, alpha):\n",
    "    W1, b1, W2, b2 = init_params()\n",
    "    for i in range(iterations):\n",
    "        Z1, A1, Z2, A2 = forward_prop(W1, b1, W2, b2, X)\n",
    "        dW1, db1, dW2, db2 = back_prop(Z1, A1, Z2, A2, W1, W2, X, Y)\n",
    "        W1, b1, W2, b2  = update_params(W1, b1, W2, b2, dW1, db1, dW2, db2, alpha)\n",
    "        if i % 50 == 0:\n",
    "            print('Iteration: ', i)\n",
    "            predictions = get_predictions(A2)\n",
    "            print('Accuracy: ', get_accuracy(predictions, Y))\n",
    "            \n",
    "    return W1, b1, W2, b2\n",
    "        "
   ]
  },
  {
   "cell_type": "code",
   "execution_count": 11,
   "metadata": {},
   "outputs": [
    {
     "name": "stdout",
     "output_type": "stream",
     "text": [
      "Iteration:  0\n",
      "Accuracy:  0.10536666666666666\n",
      "Iteration:  50\n",
      "Accuracy:  0.46791666666666665\n",
      "Iteration:  100\n",
      "Accuracy:  0.6517333333333334\n",
      "Iteration:  150\n",
      "Accuracy:  0.7163833333333334\n",
      "Iteration:  200\n",
      "Accuracy:  0.7510333333333333\n",
      "Iteration:  250\n",
      "Accuracy:  0.7750666666666667\n",
      "Iteration:  300\n",
      "Accuracy:  0.79225\n",
      "Iteration:  350\n",
      "Accuracy:  0.80685\n",
      "Iteration:  400\n",
      "Accuracy:  0.82025\n",
      "Iteration:  450\n",
      "Accuracy:  0.8306\n",
      "Iteration:  500\n",
      "Accuracy:  0.8387666666666667\n",
      "Iteration:  550\n",
      "Accuracy:  0.8457\n",
      "Iteration:  600\n",
      "Accuracy:  0.8516666666666667\n",
      "Iteration:  650\n",
      "Accuracy:  0.8559833333333333\n",
      "Iteration:  700\n",
      "Accuracy:  0.86045\n",
      "Iteration:  750\n",
      "Accuracy:  0.8638333333333333\n",
      "Iteration:  800\n",
      "Accuracy:  0.8670333333333333\n",
      "Iteration:  850\n",
      "Accuracy:  0.8695833333333334\n",
      "Iteration:  900\n",
      "Accuracy:  0.87235\n",
      "Iteration:  950\n",
      "Accuracy:  0.8741\n"
     ]
    }
   ],
   "source": [
    "W1, b1, W2, b2 = gradient_descent(x_train, y_train, 1000, 0.12)"
   ]
  },
  {
   "cell_type": "code",
   "execution_count": 12,
   "metadata": {},
   "outputs": [],
   "source": [
    "def make_predictions(X, W1, b1, W2, b2):\n",
    "    _, _, _, A2 = forward_prop(W1, b1, W2, b2, X)\n",
    "    predictions = get_predictions(A2)\n",
    "    return predictions\n",
    "\n",
    "def test_prediction(index, W1, b1, W2, b2):\n",
    "    current_image = x_train[:, index, None]\n",
    "    prediction = make_predictions(x_train[:, index, None], W1, b1, W2, b2)\n",
    "    label = y_train[index]\n",
    "    print(\"Prediction: \", prediction)\n",
    "    print(\"Label: \", label)\n",
    "    \n",
    "    current_image = current_image.reshape((28, 28)) * 255\n",
    "    plt.gray()\n",
    "    plt.imshow(current_image, interpolation='nearest')\n",
    "    plt.show()"
   ]
  },
  {
   "cell_type": "code",
   "execution_count": 13,
   "metadata": {},
   "outputs": [
    {
     "name": "stdout",
     "output_type": "stream",
     "text": [
      "Prediction:  [2]\n",
      "Label:  2\n"
     ]
    },
    {
     "data": {
      "image/png": "[encoded data removed]",
      "text/plain": [
       "<Figure size 640x480 with 1 Axes>"
      ]
     },
     "metadata": {},
     "output_type": "display_data"
    }
   ],
   "source": [
    "test_prediction(233, W1, b1, W2, b2)"
   ]
  },
  {
   "cell_type": "code",
   "execution_count": 14,
   "metadata": {},
   "outputs": [
    {
     "name": "stdout",
     "output_type": "stream",
     "text": [
      "Layer           | Number of Neurons    | Activation Function\n",
      "------------------------------------------------------------\n",
      "Input Layer     | 786                  | -              \n",
      "Hidden Layer    | 10                   | ReLU           \n",
      "Output Layer    | 10                   | Softmax        \n",
      "\n",
      "Architecture Overview:\n",
      "Input Layer (786 neurons)  =>  Hidden Layer (10 neurons, ReLU)  =>  Output Layer (10 neurons, Softmax)\n"
     ]
    }
   ],
   "source": [
    "def print_nn_architecture():\n",
    "    architecture = [\n",
    "        {\"Layer\": \"Input Layer\", \"Neurons\": 786, \"Activation\": \"-\"},\n",
    "        {\"Layer\": \"Hidden Layer\", \"Neurons\": 10, \"Activation\": \"ReLU\"},\n",
    "        {\"Layer\": \"Output Layer\", \"Neurons\": 10, \"Activation\": \"Softmax\"},\n",
    "    ]\n",
    "    \n",
    "    # Print the table header\n",
    "    print(f\"{'Layer':<15} | {'Number of Neurons':<20} | {'Activation Function':<15}\")\n",
    "    print(\"-\" * 60)\n",
    "    \n",
    "    # Print each layer's details\n",
    "    for layer in architecture:\n",
    "        print(f\"{layer['Layer']:<15} | {layer['Neurons']:<20} | {layer['Activation']:<15}\")\n",
    "    \n",
    "    # Print the architecture overview\n",
    "    print(\"\\nArchitecture Overview:\")\n",
    "    print(\"Input Layer (786 neurons)  =>  Hidden Layer (10 neurons, ReLU)  =>  Output Layer (10 neurons, Softmax)\")\n",
    "\n",
    "print_nn_architecture()\n"
   ]
  }
 ],
 "metadata": {
  "kernelspec": {
   "display_name": "Python 3.11.3 ('base')",
   "language": "python",
   "name": "python3"
  },
  "language_info": {
   "codemirror_mode": {
    "name": "ipython",
    "version": 3
   },
   "file_extension": ".py",
   "mimetype": "text/x-python",
   "name": "python",
   "nbconvert_exporter": "python",
   "pygments_lexer": "ipython3",
   "version": "3.11.3"
  },
  "orig_nbformat": 4,
  "vscode": {
   "interpreter": {
    "hash": "3c06e3e46abf38078fe4dac36a0085ec2b134ebbd73dd076183d243eeca6918f"
   }
  }
 },
 "nbformat": 4,
 "nbformat_minor": 2
}
